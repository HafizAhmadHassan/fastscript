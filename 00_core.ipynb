{
 "cells": [
  {
   "cell_type": "code",
   "execution_count": 1,
   "metadata": {},
   "outputs": [],
   "source": [
    "# default_exp watchdog"
   ]
  },
  {
   "cell_type": "code",
   "execution_count": 2,
   "metadata": {},
   "outputs": [],
   "source": [
    "from fastcore.all import *"
   ]
  },
  {
   "cell_type": "code",
   "execution_count": 3,
   "metadata": {},
   "outputs": [],
   "source": [
    "from nbdev.showdoc import *"
   ]
  },
  {
   "cell_type": "markdown",
   "metadata": {},
   "source": [
    "## Requirements"
   ]
  },
  {
   "cell_type": "markdown",
   "metadata": {},
   "source": [
    "Optional xtras\n",
    "\n",
    "- 2nd line of script, if a comment, is added as a description to the log"
   ]
  },
  {
   "cell_type": "code",
   "execution_count": 4,
   "metadata": {},
   "outputs": [],
   "source": [
    "shutil.rmtree('data')\n",
    "path = Path('data')\n",
    "path.mkdir(exist_ok=True)"
   ]
  },
  {
   "cell_type": "code",
   "execution_count": 5,
   "metadata": {},
   "outputs": [],
   "source": [
    "def setup_dirs(path):\n",
    "    path_run = path/'to_run'\n",
    "    path_running = path/'running'\n",
    "    path_complete = path/'complete'\n",
    "    path_fail = path/'fail'\n",
    "    path_out = path/'out'\n",
    "    for o in path_run,path_running,path_complete,path_fail,path_out:\n",
    "        o.mkdir(exist_ok=True)\n",
    "    return path_run,path_running,path_complete,path_fail,path_out"
   ]
  },
  {
   "cell_type": "code",
   "execution_count": 6,
   "metadata": {},
   "outputs": [],
   "source": [
    "path_run,path_running,path_complete,path_fail,path_out = setup_dirs(path)"
   ]
  },
  {
   "cell_type": "code",
   "execution_count": 7,
   "metadata": {},
   "outputs": [],
   "source": [
    "def find_next_script(p):\n",
    "    files = p.ls().sorted().filter(Self.is_file())\n",
    "    if files: return files[0]"
   ]
  },
  {
   "cell_type": "code",
   "execution_count": 8,
   "metadata": {},
   "outputs": [],
   "source": [
    "def _create_tests():\n",
    "    os.symlink('/bin/ls', path_run/'ls')\n",
    "    os.symlink('/bin/false', path_run/'false')\n",
    "    (path_run/'test_dir').mkdir(exist_ok=True)\n",
    "\n",
    "_create_tests()\n",
    "test_eq(find_next_script(path_run).name, 'false')\n",
    "assert not find_next_script(path_complete)"
   ]
  },
  {
   "cell_type": "code",
   "execution_count": 9,
   "metadata": {},
   "outputs": [],
   "source": [
    "def is_available(i, p): return not (p/f'{i}.lock').exists()\n",
    "\n",
    "def find_next_workerid(worker_ids, p):\n",
    "    ids = worker_ids.filter(is_available, p=path)\n",
    "    if ids: return ids[0]\n",
    "\n",
    "def lock_worker(p, wid, details=\"\"):\n",
    "    (p/f'{wid}.lock').write_text(str(details))\n",
    "\n",
    "def unlock_worker(p, wid):\n",
    "    try: (p/f'{wid}.lock').unlink()\n",
    "    except FileNotFoundError: pass"
   ]
  },
  {
   "cell_type": "code",
   "execution_count": 10,
   "metadata": {},
   "outputs": [],
   "source": [
    "unlock_worker(path, 0)\n",
    "worker_ids = L.range(4)\n",
    "test_eq(find_next_workerid(worker_ids, path), 0)\n",
    "(path/'0.lock').write_text('hi');\n",
    "test_eq(find_next_workerid(worker_ids, path), 1)"
   ]
  },
  {
   "cell_type": "code",
   "execution_count": 11,
   "metadata": {},
   "outputs": [],
   "source": [
    "f = path_run.ls()[0]"
   ]
  },
  {
   "cell_type": "markdown",
   "metadata": {},
   "source": [
    "1. X poll a directory\n",
    "1. X find first file\n",
    "1. X check there's an available worker id\n",
    "1. X move it to `running`\n",
    "1. run it\n",
    "   1. X create lock file\n",
    "   1. X redirect stdout/err\n",
    "   1. X run it\n",
    "   1. X when done, move it to `complete` or `failed`\n",
    "   1. X unlock"
   ]
  },
  {
   "cell_type": "code",
   "execution_count": 12,
   "metadata": {},
   "outputs": [],
   "source": [
    "def safe_rename(file, dest):\n",
    "    to_name = dest/file.name\n",
    "    if to_name.exists():\n",
    "        u = uuid4()\n",
    "        to_name = dest/f'{name}-{u}'\n",
    "        warnings.warn(f'Using unique name {to_name}')\n",
    "    file.replace(to_name)\n",
    "    return to_name"
   ]
  },
  {
   "cell_type": "code",
   "execution_count": 13,
   "metadata": {},
   "outputs": [],
   "source": [
    "# TODO increase interval\n",
    "def poll_scripts(worker_ids, p, poll_interval=0.01):\n",
    "    path_run,path_running,path_complete,path_fail,path_out = setup_dirs(p)\n",
    "    for i in range(10):\n",
    "        sleep(poll_interval)\n",
    "        script = find_next_script(path_run)\n",
    "        if script is None: continue\n",
    "        wid = find_next_workerid(worker_ids, p)\n",
    "        if wid is None: continue\n",
    "        run_name = safe_rename(script, path_running)\n",
    "        lock_worker(p, wid)"
   ]
  },
  {
   "cell_type": "code",
   "execution_count": 14,
   "metadata": {},
   "outputs": [],
   "source": [
    "shutil.rmtree('data')\n",
    "path.mkdir(exist_ok=True)\n",
    "path_run,path_running,path_complete,path_fail,path_out = setup_dirs(path)\n",
    "_create_tests()"
   ]
  },
  {
   "cell_type": "code",
   "execution_count": 15,
   "metadata": {},
   "outputs": [],
   "source": [
    "import threading"
   ]
  },
  {
   "cell_type": "code",
   "execution_count": 16,
   "metadata": {},
   "outputs": [],
   "source": [
    "def run_1script(script, path_complete, path_fail, path_out, path, wid):\n",
    "    with (path_out/f'{script.name}.stderr').open(\"w\") as stderr:\n",
    "        with (path_out/f'{script.name}.stdout').open(\"w\") as stdout:\n",
    "            res = subprocess.call(str(script), stdout=stdout, stderr=stderr)\n",
    "    (path_out/f'{script.name}.exitcode').write_text(str(res))\n",
    "    # TODO: handle failure\n",
    "    finish_name = safe_rename(script, path_complete)\n",
    "    unlock_worker(path, wid)"
   ]
  },
  {
   "cell_type": "code",
   "execution_count": 22,
   "metadata": {},
   "outputs": [],
   "source": [
    "f = find_next_script(path_run)"
   ]
  },
  {
   "cell_type": "code",
   "execution_count": 23,
   "metadata": {},
   "outputs": [],
   "source": [
    "thread = threading.Thread(target=run_1script, args=(f, path_complete, path_fail, path_out, path, 0))\n",
    "thread.start()\n",
    "thread.join()"
   ]
  },
  {
   "cell_type": "code",
   "execution_count": 24,
   "metadata": {},
   "outputs": [],
   "source": [
    "find_next_script(path_run)"
   ]
  },
  {
   "cell_type": "code",
   "execution_count": 21,
   "metadata": {},
   "outputs": [
    {
     "data": {
      "text/plain": [
       "PosixPath('data/complete/false')"
      ]
     },
     "execution_count": 21,
     "metadata": {},
     "output_type": "execute_result"
    }
   ],
   "source": [
    "find_next_script(path_complete)"
   ]
  },
  {
   "cell_type": "code",
   "execution_count": 35,
   "metadata": {},
   "outputs": [
    {
     "data": {
      "text/plain": [
       "1"
      ]
     },
     "execution_count": 35,
     "metadata": {},
     "output_type": "execute_result"
    }
   ],
   "source": [
    "run_1script(f)"
   ]
  },
  {
   "cell_type": "code",
   "execution_count": 98,
   "metadata": {},
   "outputs": [],
   "source": [
    "poll_scripts(worker_ids, path)"
   ]
  },
  {
   "cell_type": "code",
   "execution_count": 99,
   "metadata": {},
   "outputs": [
    {
     "data": {
      "text/plain": [
       "0"
      ]
     },
     "execution_count": 99,
     "metadata": {},
     "output_type": "execute_result"
    }
   ],
   "source": [
    "find_next_workerid(worker_ids, path)"
   ]
  },
  {
   "cell_type": "code",
   "execution_count": 100,
   "metadata": {},
   "outputs": [
    {
     "data": {
      "text/plain": [
       "(#5) [data/complete,data/fail,data/running,data/to_run,data/out]"
      ]
     },
     "execution_count": 100,
     "metadata": {},
     "output_type": "execute_result"
    }
   ],
   "source": [
    "path.ls()"
   ]
  },
  {
   "cell_type": "code",
   "execution_count": 101,
   "metadata": {},
   "outputs": [
    {
     "data": {
      "text/plain": [
       "(#0) []"
      ]
     },
     "execution_count": 101,
     "metadata": {},
     "output_type": "execute_result"
    }
   ],
   "source": [
    "path_running.ls()"
   ]
  },
  {
   "cell_type": "code",
   "execution_count": 102,
   "metadata": {},
   "outputs": [
    {
     "data": {
      "text/plain": [
       "(#2) [data/complete/nvidia-smi,data/complete/ls]"
      ]
     },
     "execution_count": 102,
     "metadata": {},
     "output_type": "execute_result"
    }
   ],
   "source": [
    "path_complete.ls()"
   ]
  },
  {
   "cell_type": "code",
   "execution_count": 103,
   "metadata": {},
   "outputs": [
    {
     "name": "stdout",
     "output_type": "stream",
     "text": [
      "\n"
     ]
    }
   ],
   "source": [
    "print(Path('stderr').read_text())"
   ]
  },
  {
   "cell_type": "code",
   "execution_count": 104,
   "metadata": {},
   "outputs": [
    {
     "name": "stdout",
     "output_type": "stream",
     "text": [
      "00_core.ipynb\n",
      "99_index.ipynb\n",
      "build\n",
      "data\n",
      "dist\n",
      "docs\n",
      "examples\n",
      "fastscript\n",
      "fastscript.egg-info\n",
      "LICENSE\n",
      "Makefile\n",
      "myfile\n",
      "__pycache__\n",
      "README.md\n",
      "settings.ini\n",
      "setup.py\n",
      "stderr\n",
      "stdout\n",
      "\n"
     ]
    }
   ],
   "source": [
    "print(Path('stdout').read_text())"
   ]
  },
  {
   "cell_type": "code",
   "execution_count": null,
   "metadata": {},
   "outputs": [],
   "source": []
  }
 ],
 "metadata": {
  "kernelspec": {
   "display_name": "Python 3",
   "language": "python",
   "name": "python3"
  },
  "language_info": {
   "codemirror_mode": {
    "name": "ipython",
    "version": 3
   },
   "file_extension": ".py",
   "mimetype": "text/x-python",
   "name": "python",
   "nbconvert_exporter": "python",
   "pygments_lexer": "ipython3",
   "version": "3.7.5"
  },
  "toc": {
   "base_numbering": 1,
   "nav_menu": {},
   "number_sections": false,
   "sideBar": true,
   "skip_h1_title": true,
   "title_cell": "Table of Contents",
   "title_sidebar": "Contents",
   "toc_cell": false,
   "toc_position": {},
   "toc_section_display": true,
   "toc_window_display": false
  }
 },
 "nbformat": 4,
 "nbformat_minor": 2
}
